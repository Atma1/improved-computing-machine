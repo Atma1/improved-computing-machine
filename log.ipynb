{
  "nbformat": 4,
  "nbformat_minor": 0,
  "metadata": {
    "colab": {
      "provenance": []
    },
    "kernelspec": {
      "name": "python3",
      "display_name": "Python 3"
    },
    "language_info": {
      "name": "python"
    }
  },
  "cells": [
    {
      "cell_type": "code",
      "source": [
        "!pip install mealpy"
      ],
      "metadata": {
        "colab": {
          "base_uri": "https://localhost:8080/"
        },
        "id": "FH27APIaEtTF",
        "outputId": "ce19165a-9ea5-47ce-b6d8-bd73610f75ea"
      },
      "execution_count": 1,
      "outputs": [
        {
          "output_type": "stream",
          "name": "stdout",
          "text": [
            "Collecting mealpy\n",
            "  Downloading mealpy-3.0.1-py3-none-any.whl.metadata (104 kB)\n",
            "\u001b[?25l     \u001b[90m━━━━━━━━━━━━━━━━━━━━━━━━━━━━━━━━━━━━━━━━\u001b[0m \u001b[32m0.0/104.9 kB\u001b[0m \u001b[31m?\u001b[0m eta \u001b[36m-:--:--\u001b[0m\r\u001b[2K     \u001b[91m━━━━━━━━━━━━━━━━━━━━━━━━━━━━━━━━━━━━━━━\u001b[0m\u001b[90m╺\u001b[0m \u001b[32m102.4/104.9 kB\u001b[0m \u001b[31m4.8 MB/s\u001b[0m eta \u001b[36m0:00:01\u001b[0m\r\u001b[2K     \u001b[90m━━━━━━━━━━━━━━━━━━━━━━━━━━━━━━━━━━━━━━━━\u001b[0m \u001b[32m104.9/104.9 kB\u001b[0m \u001b[31m2.2 MB/s\u001b[0m eta \u001b[36m0:00:00\u001b[0m\n",
            "\u001b[?25hRequirement already satisfied: numpy>=1.17.5 in /usr/local/lib/python3.10/dist-packages (from mealpy) (1.26.4)\n",
            "Requirement already satisfied: matplotlib>=3.3.0 in /usr/local/lib/python3.10/dist-packages (from mealpy) (3.7.1)\n",
            "Requirement already satisfied: scipy>=1.7.1 in /usr/local/lib/python3.10/dist-packages (from mealpy) (1.13.1)\n",
            "Requirement already satisfied: pandas>=1.2.0 in /usr/local/lib/python3.10/dist-packages (from mealpy) (2.2.2)\n",
            "Collecting opfunu>=1.0.0 (from mealpy)\n",
            "  Downloading opfunu-1.0.4-py3-none-any.whl.metadata (10 kB)\n",
            "Requirement already satisfied: contourpy>=1.0.1 in /usr/local/lib/python3.10/dist-packages (from matplotlib>=3.3.0->mealpy) (1.3.0)\n",
            "Requirement already satisfied: cycler>=0.10 in /usr/local/lib/python3.10/dist-packages (from matplotlib>=3.3.0->mealpy) (0.12.1)\n",
            "Requirement already satisfied: fonttools>=4.22.0 in /usr/local/lib/python3.10/dist-packages (from matplotlib>=3.3.0->mealpy) (4.54.1)\n",
            "Requirement already satisfied: kiwisolver>=1.0.1 in /usr/local/lib/python3.10/dist-packages (from matplotlib>=3.3.0->mealpy) (1.4.7)\n",
            "Requirement already satisfied: packaging>=20.0 in /usr/local/lib/python3.10/dist-packages (from matplotlib>=3.3.0->mealpy) (24.1)\n",
            "Requirement already satisfied: pillow>=6.2.0 in /usr/local/lib/python3.10/dist-packages (from matplotlib>=3.3.0->mealpy) (10.4.0)\n",
            "Requirement already satisfied: pyparsing>=2.3.1 in /usr/local/lib/python3.10/dist-packages (from matplotlib>=3.3.0->mealpy) (3.1.4)\n",
            "Requirement already satisfied: python-dateutil>=2.7 in /usr/local/lib/python3.10/dist-packages (from matplotlib>=3.3.0->mealpy) (2.8.2)\n",
            "Requirement already satisfied: requests>=2.27.0 in /usr/local/lib/python3.10/dist-packages (from opfunu>=1.0.0->mealpy) (2.32.3)\n",
            "Requirement already satisfied: pytz>=2020.1 in /usr/local/lib/python3.10/dist-packages (from pandas>=1.2.0->mealpy) (2024.2)\n",
            "Requirement already satisfied: tzdata>=2022.7 in /usr/local/lib/python3.10/dist-packages (from pandas>=1.2.0->mealpy) (2024.2)\n",
            "Requirement already satisfied: six>=1.5 in /usr/local/lib/python3.10/dist-packages (from python-dateutil>=2.7->matplotlib>=3.3.0->mealpy) (1.16.0)\n",
            "Requirement already satisfied: charset-normalizer<4,>=2 in /usr/local/lib/python3.10/dist-packages (from requests>=2.27.0->opfunu>=1.0.0->mealpy) (3.3.2)\n",
            "Requirement already satisfied: idna<4,>=2.5 in /usr/local/lib/python3.10/dist-packages (from requests>=2.27.0->opfunu>=1.0.0->mealpy) (3.10)\n",
            "Requirement already satisfied: urllib3<3,>=1.21.1 in /usr/local/lib/python3.10/dist-packages (from requests>=2.27.0->opfunu>=1.0.0->mealpy) (2.2.3)\n",
            "Requirement already satisfied: certifi>=2017.4.17 in /usr/local/lib/python3.10/dist-packages (from requests>=2.27.0->opfunu>=1.0.0->mealpy) (2024.8.30)\n",
            "Downloading mealpy-3.0.1-py3-none-any.whl (386 kB)\n",
            "\u001b[2K   \u001b[90m━━━━━━━━━━━━━━━━━━━━━━━━━━━━━━━━━━━━━━━━\u001b[0m \u001b[32m386.3/386.3 kB\u001b[0m \u001b[31m8.4 MB/s\u001b[0m eta \u001b[36m0:00:00\u001b[0m\n",
            "\u001b[?25hDownloading opfunu-1.0.4-py3-none-any.whl (13.0 MB)\n",
            "\u001b[2K   \u001b[90m━━━━━━━━━━━━━━━━━━━━━━━━━━━━━━━━━━━━━━━━\u001b[0m \u001b[32m13.0/13.0 MB\u001b[0m \u001b[31m39.8 MB/s\u001b[0m eta \u001b[36m0:00:00\u001b[0m\n",
            "\u001b[?25hInstalling collected packages: opfunu, mealpy\n",
            "Successfully installed mealpy-3.0.1 opfunu-1.0.4\n"
          ]
        }
      ]
    },
    {
      "cell_type": "code",
      "source": [
        "from mealpy import Problem, FloatVar, BBO, IntegerVar, GA, StringVar\n",
        "import tensorflow as tf\n",
        "from tensorflow.keras.models import Sequential\n",
        "from tensorflow.keras.layers import Dense, Input\n",
        "from sklearn.datasets import load_breast_cancer\n",
        "from sklearn.model_selection import train_test_split\n",
        "from mealpy import GA, PSO, Problem, FloatVar, IntegerVar\n",
        "import numpy as np\n",
        "\n",
        "SEED = 42\n",
        "\n",
        "\n",
        "class Squared(Problem):\n",
        "    def __init__(self, bounds=None, minmax=\"min\", name=\"Squared\", data=None, **kwargs):\n",
        "        self.name = name\n",
        "        self.data = data\n",
        "        super().__init__(bounds, minmax, **kwargs)\n",
        "\n",
        "    def obj_func(self, solution):\n",
        "        x = self.decode_solution(solution)[\"weight\"]\n",
        "        b = self.decode_solution(solution)[\"base\"]\n",
        "        return [x**2, b**2]\n",
        "\n",
        "## Now, we define an algorithm, and pass an instance of our *Squared* class as the problem argument.\n",
        "bounds = [IntegerVar(lb=10, ub=100, name=\"weight\"), IntegerVar(lb=10, ub=20, name=\"base\")]\n",
        "problem = Squared(bounds=bounds, minmax=\"min\", name=\"Squared\", data=\"Amazing\", obj_weights=(0.5, 0.5))\n",
        "model = BBO.OriginalBBO(epoch=100, pop_size=20, seed=SEED)\n",
        "model_2 = GA.BaseGA(epoch=100, pop_size=100)\n",
        "g_best = model.solve(problem)"
      ],
      "metadata": {
        "id": "_lK53OaJdvcz",
        "colab": {
          "base_uri": "https://localhost:8080/"
        },
        "outputId": "e324b3c2-5e57-4907-8e2c-ca96f9cf5ffd"
      },
      "execution_count": 14,
      "outputs": [
        {
          "output_type": "stream",
          "name": "stderr",
          "text": [
            "INFO:mealpy.bio_based.BBO.OriginalBBO:Solving 2-objective optimization problem with weights: [0.5 0.5].\n",
            "INFO:mealpy.bio_based.BBO.OriginalBBO:>>>Problem: P, Epoch: 1, Current best: 145.0, Global best: 145.0, Runtime: 0.00347 seconds\n",
            "INFO:mealpy.bio_based.BBO.OriginalBBO:>>>Problem: P, Epoch: 2, Current best: 121.0, Global best: 121.0, Runtime: 0.00548 seconds\n",
            "INFO:mealpy.bio_based.BBO.OriginalBBO:>>>Problem: P, Epoch: 3, Current best: 121.0, Global best: 121.0, Runtime: 0.00580 seconds\n",
            "INFO:mealpy.bio_based.BBO.OriginalBBO:>>>Problem: P, Epoch: 4, Current best: 121.0, Global best: 121.0, Runtime: 0.00555 seconds\n",
            "INFO:mealpy.bio_based.BBO.OriginalBBO:>>>Problem: P, Epoch: 5, Current best: 121.0, Global best: 121.0, Runtime: 0.00567 seconds\n",
            "INFO:mealpy.bio_based.BBO.OriginalBBO:>>>Problem: P, Epoch: 6, Current best: 121.0, Global best: 121.0, Runtime: 0.00613 seconds\n",
            "INFO:mealpy.bio_based.BBO.OriginalBBO:>>>Problem: P, Epoch: 7, Current best: 121.0, Global best: 121.0, Runtime: 0.00679 seconds\n",
            "INFO:mealpy.bio_based.BBO.OriginalBBO:>>>Problem: P, Epoch: 8, Current best: 121.0, Global best: 121.0, Runtime: 0.00826 seconds\n",
            "INFO:mealpy.bio_based.BBO.OriginalBBO:>>>Problem: P, Epoch: 9, Current best: 121.0, Global best: 121.0, Runtime: 0.00599 seconds\n",
            "INFO:mealpy.bio_based.BBO.OriginalBBO:>>>Problem: P, Epoch: 10, Current best: 121.0, Global best: 121.0, Runtime: 0.00567 seconds\n",
            "INFO:mealpy.bio_based.BBO.OriginalBBO:>>>Problem: P, Epoch: 11, Current best: 121.0, Global best: 121.0, Runtime: 0.00631 seconds\n",
            "INFO:mealpy.bio_based.BBO.OriginalBBO:>>>Problem: P, Epoch: 12, Current best: 121.0, Global best: 121.0, Runtime: 0.00661 seconds\n",
            "INFO:mealpy.bio_based.BBO.OriginalBBO:>>>Problem: P, Epoch: 13, Current best: 121.0, Global best: 121.0, Runtime: 0.00586 seconds\n",
            "INFO:mealpy.bio_based.BBO.OriginalBBO:>>>Problem: P, Epoch: 14, Current best: 121.0, Global best: 121.0, Runtime: 0.00619 seconds\n",
            "INFO:mealpy.bio_based.BBO.OriginalBBO:>>>Problem: P, Epoch: 15, Current best: 121.0, Global best: 121.0, Runtime: 0.00574 seconds\n",
            "INFO:mealpy.bio_based.BBO.OriginalBBO:>>>Problem: P, Epoch: 16, Current best: 121.0, Global best: 121.0, Runtime: 0.00571 seconds\n",
            "INFO:mealpy.bio_based.BBO.OriginalBBO:>>>Problem: P, Epoch: 17, Current best: 121.0, Global best: 121.0, Runtime: 0.00613 seconds\n",
            "INFO:mealpy.bio_based.BBO.OriginalBBO:>>>Problem: P, Epoch: 18, Current best: 121.0, Global best: 121.0, Runtime: 0.00584 seconds\n",
            "INFO:mealpy.bio_based.BBO.OriginalBBO:>>>Problem: P, Epoch: 19, Current best: 121.0, Global best: 121.0, Runtime: 0.00564 seconds\n",
            "INFO:mealpy.bio_based.BBO.OriginalBBO:>>>Problem: P, Epoch: 20, Current best: 121.0, Global best: 121.0, Runtime: 0.00563 seconds\n",
            "INFO:mealpy.bio_based.BBO.OriginalBBO:>>>Problem: P, Epoch: 21, Current best: 121.0, Global best: 121.0, Runtime: 0.00591 seconds\n",
            "INFO:mealpy.bio_based.BBO.OriginalBBO:>>>Problem: P, Epoch: 22, Current best: 121.0, Global best: 121.0, Runtime: 0.00588 seconds\n",
            "INFO:mealpy.bio_based.BBO.OriginalBBO:>>>Problem: P, Epoch: 23, Current best: 121.0, Global best: 121.0, Runtime: 0.00600 seconds\n",
            "INFO:mealpy.bio_based.BBO.OriginalBBO:>>>Problem: P, Epoch: 24, Current best: 121.0, Global best: 121.0, Runtime: 0.00592 seconds\n",
            "INFO:mealpy.bio_based.BBO.OriginalBBO:>>>Problem: P, Epoch: 25, Current best: 121.0, Global best: 121.0, Runtime: 0.00582 seconds\n",
            "INFO:mealpy.bio_based.BBO.OriginalBBO:>>>Problem: P, Epoch: 26, Current best: 121.0, Global best: 121.0, Runtime: 0.00606 seconds\n",
            "INFO:mealpy.bio_based.BBO.OriginalBBO:>>>Problem: P, Epoch: 27, Current best: 121.0, Global best: 121.0, Runtime: 0.00751 seconds\n",
            "INFO:mealpy.bio_based.BBO.OriginalBBO:>>>Problem: P, Epoch: 28, Current best: 121.0, Global best: 121.0, Runtime: 0.00683 seconds\n",
            "INFO:mealpy.bio_based.BBO.OriginalBBO:>>>Problem: P, Epoch: 29, Current best: 121.0, Global best: 121.0, Runtime: 0.00563 seconds\n",
            "INFO:mealpy.bio_based.BBO.OriginalBBO:>>>Problem: P, Epoch: 30, Current best: 121.0, Global best: 121.0, Runtime: 0.00549 seconds\n",
            "INFO:mealpy.bio_based.BBO.OriginalBBO:>>>Problem: P, Epoch: 31, Current best: 121.0, Global best: 121.0, Runtime: 0.00560 seconds\n",
            "INFO:mealpy.bio_based.BBO.OriginalBBO:>>>Problem: P, Epoch: 32, Current best: 121.0, Global best: 121.0, Runtime: 0.00579 seconds\n",
            "INFO:mealpy.bio_based.BBO.OriginalBBO:>>>Problem: P, Epoch: 33, Current best: 121.0, Global best: 121.0, Runtime: 0.00608 seconds\n",
            "INFO:mealpy.bio_based.BBO.OriginalBBO:>>>Problem: P, Epoch: 34, Current best: 121.0, Global best: 121.0, Runtime: 0.00607 seconds\n",
            "INFO:mealpy.bio_based.BBO.OriginalBBO:>>>Problem: P, Epoch: 35, Current best: 121.0, Global best: 121.0, Runtime: 0.00583 seconds\n",
            "INFO:mealpy.bio_based.BBO.OriginalBBO:>>>Problem: P, Epoch: 36, Current best: 121.0, Global best: 121.0, Runtime: 0.00554 seconds\n",
            "INFO:mealpy.bio_based.BBO.OriginalBBO:>>>Problem: P, Epoch: 37, Current best: 121.0, Global best: 121.0, Runtime: 0.00970 seconds\n",
            "INFO:mealpy.bio_based.BBO.OriginalBBO:>>>Problem: P, Epoch: 38, Current best: 121.0, Global best: 121.0, Runtime: 0.00628 seconds\n",
            "INFO:mealpy.bio_based.BBO.OriginalBBO:>>>Problem: P, Epoch: 39, Current best: 121.0, Global best: 121.0, Runtime: 0.00538 seconds\n",
            "INFO:mealpy.bio_based.BBO.OriginalBBO:>>>Problem: P, Epoch: 40, Current best: 110.5, Global best: 110.5, Runtime: 0.00516 seconds\n",
            "INFO:mealpy.bio_based.BBO.OriginalBBO:>>>Problem: P, Epoch: 41, Current best: 110.5, Global best: 110.5, Runtime: 0.00605 seconds\n",
            "INFO:mealpy.bio_based.BBO.OriginalBBO:>>>Problem: P, Epoch: 42, Current best: 110.5, Global best: 110.5, Runtime: 0.00829 seconds\n",
            "INFO:mealpy.bio_based.BBO.OriginalBBO:>>>Problem: P, Epoch: 43, Current best: 110.5, Global best: 110.5, Runtime: 0.00567 seconds\n",
            "INFO:mealpy.bio_based.BBO.OriginalBBO:>>>Problem: P, Epoch: 44, Current best: 110.5, Global best: 110.5, Runtime: 0.00669 seconds\n",
            "INFO:mealpy.bio_based.BBO.OriginalBBO:>>>Problem: P, Epoch: 45, Current best: 110.5, Global best: 110.5, Runtime: 0.00737 seconds\n",
            "INFO:mealpy.bio_based.BBO.OriginalBBO:>>>Problem: P, Epoch: 46, Current best: 110.5, Global best: 110.5, Runtime: 0.00470 seconds\n",
            "INFO:mealpy.bio_based.BBO.OriginalBBO:>>>Problem: P, Epoch: 47, Current best: 110.5, Global best: 110.5, Runtime: 0.00735 seconds\n",
            "INFO:mealpy.bio_based.BBO.OriginalBBO:>>>Problem: P, Epoch: 48, Current best: 110.5, Global best: 110.5, Runtime: 0.00717 seconds\n",
            "INFO:mealpy.bio_based.BBO.OriginalBBO:>>>Problem: P, Epoch: 49, Current best: 110.5, Global best: 110.5, Runtime: 0.00637 seconds\n",
            "INFO:mealpy.bio_based.BBO.OriginalBBO:>>>Problem: P, Epoch: 50, Current best: 110.5, Global best: 110.5, Runtime: 0.00512 seconds\n",
            "INFO:mealpy.bio_based.BBO.OriginalBBO:>>>Problem: P, Epoch: 51, Current best: 110.5, Global best: 110.5, Runtime: 0.00776 seconds\n",
            "INFO:mealpy.bio_based.BBO.OriginalBBO:>>>Problem: P, Epoch: 52, Current best: 110.5, Global best: 110.5, Runtime: 0.00582 seconds\n",
            "INFO:mealpy.bio_based.BBO.OriginalBBO:>>>Problem: P, Epoch: 53, Current best: 110.5, Global best: 110.5, Runtime: 0.00590 seconds\n",
            "INFO:mealpy.bio_based.BBO.OriginalBBO:>>>Problem: P, Epoch: 54, Current best: 110.5, Global best: 110.5, Runtime: 0.00821 seconds\n",
            "INFO:mealpy.bio_based.BBO.OriginalBBO:>>>Problem: P, Epoch: 55, Current best: 110.5, Global best: 110.5, Runtime: 0.00529 seconds\n",
            "INFO:mealpy.bio_based.BBO.OriginalBBO:>>>Problem: P, Epoch: 56, Current best: 110.5, Global best: 110.5, Runtime: 0.00584 seconds\n",
            "INFO:mealpy.bio_based.BBO.OriginalBBO:>>>Problem: P, Epoch: 57, Current best: 110.5, Global best: 110.5, Runtime: 0.00673 seconds\n",
            "INFO:mealpy.bio_based.BBO.OriginalBBO:>>>Problem: P, Epoch: 58, Current best: 110.5, Global best: 110.5, Runtime: 0.00558 seconds\n",
            "INFO:mealpy.bio_based.BBO.OriginalBBO:>>>Problem: P, Epoch: 59, Current best: 110.5, Global best: 110.5, Runtime: 0.00556 seconds\n",
            "INFO:mealpy.bio_based.BBO.OriginalBBO:>>>Problem: P, Epoch: 60, Current best: 110.5, Global best: 110.5, Runtime: 0.00567 seconds\n",
            "INFO:mealpy.bio_based.BBO.OriginalBBO:>>>Problem: P, Epoch: 61, Current best: 110.5, Global best: 110.5, Runtime: 0.00688 seconds\n",
            "INFO:mealpy.bio_based.BBO.OriginalBBO:>>>Problem: P, Epoch: 62, Current best: 110.5, Global best: 110.5, Runtime: 0.01246 seconds\n",
            "INFO:mealpy.bio_based.BBO.OriginalBBO:>>>Problem: P, Epoch: 63, Current best: 110.5, Global best: 110.5, Runtime: 0.00611 seconds\n",
            "INFO:mealpy.bio_based.BBO.OriginalBBO:>>>Problem: P, Epoch: 64, Current best: 110.5, Global best: 110.5, Runtime: 0.00602 seconds\n",
            "INFO:mealpy.bio_based.BBO.OriginalBBO:>>>Problem: P, Epoch: 65, Current best: 110.5, Global best: 110.5, Runtime: 0.00749 seconds\n",
            "INFO:mealpy.bio_based.BBO.OriginalBBO:>>>Problem: P, Epoch: 66, Current best: 110.5, Global best: 110.5, Runtime: 0.00645 seconds\n",
            "INFO:mealpy.bio_based.BBO.OriginalBBO:>>>Problem: P, Epoch: 67, Current best: 110.5, Global best: 110.5, Runtime: 0.00746 seconds\n",
            "INFO:mealpy.bio_based.BBO.OriginalBBO:>>>Problem: P, Epoch: 68, Current best: 110.5, Global best: 110.5, Runtime: 0.00720 seconds\n",
            "INFO:mealpy.bio_based.BBO.OriginalBBO:>>>Problem: P, Epoch: 69, Current best: 110.5, Global best: 110.5, Runtime: 0.00608 seconds\n",
            "INFO:mealpy.bio_based.BBO.OriginalBBO:>>>Problem: P, Epoch: 70, Current best: 110.5, Global best: 110.5, Runtime: 0.00729 seconds\n",
            "INFO:mealpy.bio_based.BBO.OriginalBBO:>>>Problem: P, Epoch: 71, Current best: 110.5, Global best: 110.5, Runtime: 0.00642 seconds\n",
            "INFO:mealpy.bio_based.BBO.OriginalBBO:>>>Problem: P, Epoch: 72, Current best: 110.5, Global best: 110.5, Runtime: 0.00645 seconds\n",
            "INFO:mealpy.bio_based.BBO.OriginalBBO:>>>Problem: P, Epoch: 73, Current best: 110.5, Global best: 110.5, Runtime: 0.00666 seconds\n",
            "INFO:mealpy.bio_based.BBO.OriginalBBO:>>>Problem: P, Epoch: 74, Current best: 110.5, Global best: 110.5, Runtime: 0.00634 seconds\n",
            "INFO:mealpy.bio_based.BBO.OriginalBBO:>>>Problem: P, Epoch: 75, Current best: 110.5, Global best: 110.5, Runtime: 0.00727 seconds\n",
            "INFO:mealpy.bio_based.BBO.OriginalBBO:>>>Problem: P, Epoch: 76, Current best: 110.5, Global best: 110.5, Runtime: 0.00654 seconds\n",
            "INFO:mealpy.bio_based.BBO.OriginalBBO:>>>Problem: P, Epoch: 77, Current best: 110.5, Global best: 110.5, Runtime: 0.00578 seconds\n",
            "INFO:mealpy.bio_based.BBO.OriginalBBO:>>>Problem: P, Epoch: 78, Current best: 110.5, Global best: 110.5, Runtime: 0.00637 seconds\n",
            "INFO:mealpy.bio_based.BBO.OriginalBBO:>>>Problem: P, Epoch: 79, Current best: 110.5, Global best: 110.5, Runtime: 0.00513 seconds\n",
            "INFO:mealpy.bio_based.BBO.OriginalBBO:>>>Problem: P, Epoch: 80, Current best: 110.5, Global best: 110.5, Runtime: 0.00484 seconds\n",
            "INFO:mealpy.bio_based.BBO.OriginalBBO:>>>Problem: P, Epoch: 81, Current best: 110.5, Global best: 110.5, Runtime: 0.00543 seconds\n",
            "INFO:mealpy.bio_based.BBO.OriginalBBO:>>>Problem: P, Epoch: 82, Current best: 110.5, Global best: 110.5, Runtime: 0.00548 seconds\n",
            "INFO:mealpy.bio_based.BBO.OriginalBBO:>>>Problem: P, Epoch: 83, Current best: 110.5, Global best: 110.5, Runtime: 0.00639 seconds\n",
            "INFO:mealpy.bio_based.BBO.OriginalBBO:>>>Problem: P, Epoch: 84, Current best: 110.5, Global best: 110.5, Runtime: 0.00519 seconds\n",
            "INFO:mealpy.bio_based.BBO.OriginalBBO:>>>Problem: P, Epoch: 85, Current best: 110.5, Global best: 110.5, Runtime: 0.01306 seconds\n",
            "INFO:mealpy.bio_based.BBO.OriginalBBO:>>>Problem: P, Epoch: 86, Current best: 110.5, Global best: 110.5, Runtime: 0.00689 seconds\n",
            "INFO:mealpy.bio_based.BBO.OriginalBBO:>>>Problem: P, Epoch: 87, Current best: 110.5, Global best: 110.5, Runtime: 0.00681 seconds\n",
            "INFO:mealpy.bio_based.BBO.OriginalBBO:>>>Problem: P, Epoch: 88, Current best: 110.5, Global best: 110.5, Runtime: 0.00711 seconds\n",
            "INFO:mealpy.bio_based.BBO.OriginalBBO:>>>Problem: P, Epoch: 89, Current best: 110.5, Global best: 110.5, Runtime: 0.00530 seconds\n",
            "INFO:mealpy.bio_based.BBO.OriginalBBO:>>>Problem: P, Epoch: 90, Current best: 110.5, Global best: 110.5, Runtime: 0.00722 seconds\n",
            "INFO:mealpy.bio_based.BBO.OriginalBBO:>>>Problem: P, Epoch: 91, Current best: 110.5, Global best: 110.5, Runtime: 0.00522 seconds\n",
            "INFO:mealpy.bio_based.BBO.OriginalBBO:>>>Problem: P, Epoch: 92, Current best: 110.5, Global best: 110.5, Runtime: 0.00750 seconds\n",
            "INFO:mealpy.bio_based.BBO.OriginalBBO:>>>Problem: P, Epoch: 93, Current best: 110.5, Global best: 110.5, Runtime: 0.00787 seconds\n",
            "INFO:mealpy.bio_based.BBO.OriginalBBO:>>>Problem: P, Epoch: 94, Current best: 110.5, Global best: 110.5, Runtime: 0.00541 seconds\n",
            "INFO:mealpy.bio_based.BBO.OriginalBBO:>>>Problem: P, Epoch: 95, Current best: 110.5, Global best: 110.5, Runtime: 0.00658 seconds\n",
            "INFO:mealpy.bio_based.BBO.OriginalBBO:>>>Problem: P, Epoch: 96, Current best: 110.5, Global best: 110.5, Runtime: 0.00687 seconds\n",
            "INFO:mealpy.bio_based.BBO.OriginalBBO:>>>Problem: P, Epoch: 97, Current best: 110.5, Global best: 110.5, Runtime: 0.00589 seconds\n",
            "INFO:mealpy.bio_based.BBO.OriginalBBO:>>>Problem: P, Epoch: 98, Current best: 110.5, Global best: 110.5, Runtime: 0.00683 seconds\n",
            "INFO:mealpy.bio_based.BBO.OriginalBBO:>>>Problem: P, Epoch: 99, Current best: 110.5, Global best: 110.5, Runtime: 0.00706 seconds\n",
            "INFO:mealpy.bio_based.BBO.OriginalBBO:>>>Problem: P, Epoch: 100, Current best: 110.5, Global best: 110.5, Runtime: 0.00594 seconds\n"
          ]
        }
      ]
    },
    {
      "cell_type": "code",
      "source": [
        "g_best"
      ],
      "metadata": {
        "colab": {
          "base_uri": "https://localhost:8080/"
        },
        "id": "vy8JQStFHaRk",
        "outputId": "78eda510-a0b1-4069-bf68-9faffc264e75"
      },
      "execution_count": null,
      "outputs": [
        {
          "output_type": "execute_result",
          "data": {
            "text/plain": [
              "id: 4727, target: Objectives: [100 100], Fitness: 100.0, solution: [10. 10.]"
            ]
          },
          "metadata": {},
          "execution_count": 7
        }
      ]
    },
    {
      "cell_type": "code",
      "source": [
        "getattr(tf.k, \"Adam\")"
      ],
      "metadata": {
        "id": "U9rr6aUmLW3x",
        "colab": {
          "base_uri": "https://localhost:8080/",
          "height": 147
        },
        "outputId": "462e400d-b151-48b5-bc18-10946cc469af"
      },
      "execution_count": null,
      "outputs": [
        {
          "output_type": "error",
          "ename": "AttributeError",
          "evalue": "module 'tensorflow' has no attribute 'k'",
          "traceback": [
            "\u001b[0;31m---------------------------------------------------------------------------\u001b[0m",
            "\u001b[0;31mAttributeError\u001b[0m                            Traceback (most recent call last)",
            "\u001b[0;32m<ipython-input-9-7f36e00d968f>\u001b[0m in \u001b[0;36m<cell line: 1>\u001b[0;34m()\u001b[0m\n\u001b[0;32m----> 1\u001b[0;31m \u001b[0mgetattr\u001b[0m\u001b[0;34m(\u001b[0m\u001b[0mtf\u001b[0m\u001b[0;34m.\u001b[0m\u001b[0mk\u001b[0m\u001b[0;34m,\u001b[0m \u001b[0;34m\"Adam\"\u001b[0m\u001b[0;34m)\u001b[0m\u001b[0;34m\u001b[0m\u001b[0;34m\u001b[0m\u001b[0m\n\u001b[0m",
            "\u001b[0;31mAttributeError\u001b[0m: module 'tensorflow' has no attribute 'k'"
          ]
        }
      ]
    },
    {
      "cell_type": "code",
      "source": [
        "model = Sequential([\n",
        "    Dense(1, activation='linear'),\n",
        "])\n",
        "\n",
        "model.compile(loss=tf.keras.losses.BinaryCrossentropy(from_logits=True),\n",
        "               optimizer=tf.keras.optimizers.Adam(learning_rate=0.01),\n",
        "               metrics=['accuracy'])"
      ],
      "metadata": {
        "id": "cSnVDN7DGTY4"
      },
      "execution_count": null,
      "outputs": []
    },
    {
      "cell_type": "code",
      "source": [
        "class LogisticRegression(Problem):\n",
        "    def __init__(self, bounds=None, minmax=\"min\", name=\"LogisticRegression\", data=None, **kwargs):\n",
        "        self.name = name\n",
        "        self.data = data\n",
        "        super().__init__(bounds, minmax, **kwargs)\n",
        "\n",
        "    def obj_func(self, solution):\n",
        "        x = self.decode_solution(solution)[\"learning_rate\"]\n",
        "        model = Sequential([\n",
        "            Dense(1, activation='linear'),\n",
        "        ])\n",
        "        model.compile(loss=tf.keras.losses.BinaryCrossentropy(from_logits=True),\n",
        "               optimizer=tf.keras.optimizers.Adam(learning_rate=x),\n",
        "               metrics=['accuracy'])\n",
        "        model.fit(X_train, y_train, epochs=50)\n",
        "        acc = model.evaluate(X_test, y_test)\n",
        "        return acc[1]"
      ],
      "metadata": {
        "id": "GYQwmakhE520"
      },
      "execution_count": null,
      "outputs": []
    },
    {
      "cell_type": "code",
      "source": [
        "class LogisticRegression():\n",
        "    def __init__(self, input: int, optimizer: str, learning_rate: float):\n",
        "        self.input = input\n",
        "        self.optimizer_name = optimizer\n",
        "        self.learning_rate = learning_rate\n",
        "        self.sequential = Sequential([\n",
        "            Input(shape=(input,)),\n",
        "            Dense(1, activation='linear'),\n",
        "        ])\n",
        "\n",
        "    def fit(self, X, y, epochs=50):\n",
        "        self.sequential.compile(\n",
        "              loss=tf.keras.losses.BinaryCrossentropy(from_logits=True),\n",
        "              optimizer=getattr(tf.keras.optimizers, self.optimizer_name)(learning_rate=self.learning_rate))\n",
        "        self.sequential.fit(X, y, epochs=epochs)\n",
        "        loss = self.sequential.evaluate(X, y)\n",
        "        return loss\n",
        "\n",
        "    def predict(self, X, y):\n",
        "        test_loss = self.sequential.evaluate(X, y)\n",
        "        return test_loss\n",
        "\n"
      ],
      "metadata": {
        "id": "E9trfteaIAP7"
      },
      "execution_count": 8,
      "outputs": []
    },
    {
      "cell_type": "code",
      "source": [
        "class HyperparameterOptimProblem(Problem):\n",
        "    def __init__(self, bounds, minmax=\"min\", data=None, **kwargs):\n",
        "        self.data = data\n",
        "\n",
        "        super().__init__(bounds, minmax, **kwargs)\n",
        "\n",
        "    def fit_model(self, optimizer_name, learning_rate):\n",
        "        # Create Logistic Regression model with current hyperparameters\n",
        "        input_dim = self.data[\"X_train\"].shape[1]\n",
        "        model = LogisticRegression(input=self.input_dim, optimizer=optimizer_name, learning_rate=learning_rate)\n",
        "\n",
        "        # Train the model and return loss as the evaluation metric\n",
        "        loss_train = model.fit(self.data[\"X_train\"], self.data[\"y_train\"], epochs=self.data[\"epoch\"])\n",
        "        loss_test = model.predict(self.data[\"X_test\"], self.data[\"y_test\"])\n",
        "        return [loss_train, loss_test]\n",
        "\n",
        "    def obj_func(self, solution) -> list[float, float]:\n",
        "        # Decode the solution to get optimizer index and learning rate\n",
        "        optimizer_name, learning_rate = solution[\"optimizer\"], solution[\"learning_rate\"]\n",
        "        train_test_loss = self.fit_model(optimizer_name, learning_rate)  # Evaluate model\n",
        "        return train_test_loss"
      ],
      "metadata": {
        "id": "bd8uni-mpE-Z"
      },
      "execution_count": 13,
      "outputs": []
    },
    {
      "cell_type": "code",
      "source": [
        "data = load_breast_cancer()\n",
        "X_train, X_test, y_train, y_test = train_test_split(data.data, data.target, test_size=0.33, random_state=42)"
      ],
      "metadata": {
        "id": "W-n5DryQHAiV"
      },
      "execution_count": 9,
      "outputs": []
    },
    {
      "cell_type": "code",
      "source": [
        "data = {\n",
        "    \"X_train\": X_train,\n",
        "    \"y_train\": y_train,\n",
        "    \"X_test\": X_test,\n",
        "    \"y_test\": y_test,\n",
        "    \"epoch\": 50\n",
        "}\n",
        "optimizers = [ \"SGD\", \"Adam\", \"RMSprop\", \"Adagrad\", \"Adadelta\", \"Adamax\"]\n",
        "bounds = [\n",
        "    StringVar(lb=0, ub=1, name=\"optimizer\"),\n",
        "    FloatVar(lb=0.001, ub=0.1, name=\"learning_rate\"),\n",
        "]"
      ],
      "metadata": {
        "id": "keD1s7ggr6RU"
      },
      "execution_count": null,
      "outputs": []
    },
    {
      "cell_type": "code",
      "source": [
        "model1 = LogisticRegression(input=30, optimizer=\"Adam\", learning_rate=0.01)\n",
        "model1.fit(X_train, y_train)"
      ],
      "metadata": {
        "colab": {
          "base_uri": "https://localhost:8080/"
        },
        "id": "8hUtVWjmohtq",
        "outputId": "39736a10-76d0-481b-cadd-4b6f53cd5bf3"
      },
      "execution_count": 10,
      "outputs": [
        {
          "output_type": "stream",
          "name": "stdout",
          "text": [
            "Epoch 1/50\n",
            "\u001b[1m12/12\u001b[0m \u001b[32m━━━━━━━━━━━━━━━━━━━━\u001b[0m\u001b[37m\u001b[0m \u001b[1m1s\u001b[0m 2ms/step - loss: 123.9464  \n",
            "Epoch 2/50\n",
            "\u001b[1m12/12\u001b[0m \u001b[32m━━━━━━━━━━━━━━━━━━━━\u001b[0m\u001b[37m\u001b[0m \u001b[1m0s\u001b[0m 2ms/step - loss: 29.8204 \n",
            "Epoch 3/50\n",
            "\u001b[1m12/12\u001b[0m \u001b[32m━━━━━━━━━━━━━━━━━━━━\u001b[0m\u001b[37m\u001b[0m \u001b[1m0s\u001b[0m 2ms/step - loss: 20.9765 \n",
            "Epoch 4/50\n",
            "\u001b[1m12/12\u001b[0m \u001b[32m━━━━━━━━━━━━━━━━━━━━\u001b[0m\u001b[37m\u001b[0m \u001b[1m0s\u001b[0m 2ms/step - loss: 13.0495 \n",
            "Epoch 5/50\n",
            "\u001b[1m12/12\u001b[0m \u001b[32m━━━━━━━━━━━━━━━━━━━━\u001b[0m\u001b[37m\u001b[0m \u001b[1m0s\u001b[0m 2ms/step - loss: 7.7051  \n",
            "Epoch 6/50\n",
            "\u001b[1m12/12\u001b[0m \u001b[32m━━━━━━━━━━━━━━━━━━━━\u001b[0m\u001b[37m\u001b[0m \u001b[1m0s\u001b[0m 2ms/step - loss: 6.2935 \n",
            "Epoch 7/50\n",
            "\u001b[1m12/12\u001b[0m \u001b[32m━━━━━━━━━━━━━━━━━━━━\u001b[0m\u001b[37m\u001b[0m \u001b[1m0s\u001b[0m 2ms/step - loss: 5.1457 \n",
            "Epoch 8/50\n",
            "\u001b[1m12/12\u001b[0m \u001b[32m━━━━━━━━━━━━━━━━━━━━\u001b[0m\u001b[37m\u001b[0m \u001b[1m0s\u001b[0m 2ms/step - loss: 3.7785 \n",
            "Epoch 9/50\n",
            "\u001b[1m12/12\u001b[0m \u001b[32m━━━━━━━━━━━━━━━━━━━━\u001b[0m\u001b[37m\u001b[0m \u001b[1m0s\u001b[0m 2ms/step - loss: 2.8632 \n",
            "Epoch 10/50\n",
            "\u001b[1m12/12\u001b[0m \u001b[32m━━━━━━━━━━━━━━━━━━━━\u001b[0m\u001b[37m\u001b[0m \u001b[1m0s\u001b[0m 2ms/step - loss: 2.4182 \n",
            "Epoch 11/50\n",
            "\u001b[1m12/12\u001b[0m \u001b[32m━━━━━━━━━━━━━━━━━━━━\u001b[0m\u001b[37m\u001b[0m \u001b[1m0s\u001b[0m 2ms/step - loss: 2.5659 \n",
            "Epoch 12/50\n",
            "\u001b[1m12/12\u001b[0m \u001b[32m━━━━━━━━━━━━━━━━━━━━\u001b[0m\u001b[37m\u001b[0m \u001b[1m0s\u001b[0m 2ms/step - loss: 2.3421 \n",
            "Epoch 13/50\n",
            "\u001b[1m12/12\u001b[0m \u001b[32m━━━━━━━━━━━━━━━━━━━━\u001b[0m\u001b[37m\u001b[0m \u001b[1m0s\u001b[0m 2ms/step - loss: 1.9556 \n",
            "Epoch 14/50\n",
            "\u001b[1m12/12\u001b[0m \u001b[32m━━━━━━━━━━━━━━━━━━━━\u001b[0m\u001b[37m\u001b[0m \u001b[1m0s\u001b[0m 2ms/step - loss: 1.8834 \n",
            "Epoch 15/50\n",
            "\u001b[1m12/12\u001b[0m \u001b[32m━━━━━━━━━━━━━━━━━━━━\u001b[0m\u001b[37m\u001b[0m \u001b[1m0s\u001b[0m 2ms/step - loss: 1.4570 \n",
            "Epoch 16/50\n",
            "\u001b[1m12/12\u001b[0m \u001b[32m━━━━━━━━━━━━━━━━━━━━\u001b[0m\u001b[37m\u001b[0m \u001b[1m0s\u001b[0m 2ms/step - loss: 1.5494 \n",
            "Epoch 17/50\n",
            "\u001b[1m12/12\u001b[0m \u001b[32m━━━━━━━━━━━━━━━━━━━━\u001b[0m\u001b[37m\u001b[0m \u001b[1m0s\u001b[0m 2ms/step - loss: 1.4046 \n",
            "Epoch 18/50\n",
            "\u001b[1m12/12\u001b[0m \u001b[32m━━━━━━━━━━━━━━━━━━━━\u001b[0m\u001b[37m\u001b[0m \u001b[1m0s\u001b[0m 2ms/step - loss: 1.1606 \n",
            "Epoch 19/50\n",
            "\u001b[1m12/12\u001b[0m \u001b[32m━━━━━━━━━━━━━━━━━━━━\u001b[0m\u001b[37m\u001b[0m \u001b[1m0s\u001b[0m 2ms/step - loss: 1.0116 \n",
            "Epoch 20/50\n",
            "\u001b[1m12/12\u001b[0m \u001b[32m━━━━━━━━━━━━━━━━━━━━\u001b[0m\u001b[37m\u001b[0m \u001b[1m0s\u001b[0m 2ms/step - loss: 1.1968 \n",
            "Epoch 21/50\n",
            "\u001b[1m12/12\u001b[0m \u001b[32m━━━━━━━━━━━━━━━━━━━━\u001b[0m\u001b[37m\u001b[0m \u001b[1m0s\u001b[0m 2ms/step - loss: 0.8558 \n",
            "Epoch 22/50\n",
            "\u001b[1m12/12\u001b[0m \u001b[32m━━━━━━━━━━━━━━━━━━━━\u001b[0m\u001b[37m\u001b[0m \u001b[1m0s\u001b[0m 2ms/step - loss: 0.9102 \n",
            "Epoch 23/50\n",
            "\u001b[1m12/12\u001b[0m \u001b[32m━━━━━━━━━━━━━━━━━━━━\u001b[0m\u001b[37m\u001b[0m \u001b[1m0s\u001b[0m 2ms/step - loss: 1.1286 \n",
            "Epoch 24/50\n",
            "\u001b[1m12/12\u001b[0m \u001b[32m━━━━━━━━━━━━━━━━━━━━\u001b[0m\u001b[37m\u001b[0m \u001b[1m0s\u001b[0m 2ms/step - loss: 0.8803 \n",
            "Epoch 25/50\n",
            "\u001b[1m12/12\u001b[0m \u001b[32m━━━━━━━━━━━━━━━━━━━━\u001b[0m\u001b[37m\u001b[0m \u001b[1m0s\u001b[0m 2ms/step - loss: 0.5985  \n",
            "Epoch 26/50\n",
            "\u001b[1m12/12\u001b[0m \u001b[32m━━━━━━━━━━━━━━━━━━━━\u001b[0m\u001b[37m\u001b[0m \u001b[1m0s\u001b[0m 2ms/step - loss: 0.5807 \n",
            "Epoch 27/50\n",
            "\u001b[1m12/12\u001b[0m \u001b[32m━━━━━━━━━━━━━━━━━━━━\u001b[0m\u001b[37m\u001b[0m \u001b[1m0s\u001b[0m 2ms/step - loss: 0.6346 \n",
            "Epoch 28/50\n",
            "\u001b[1m12/12\u001b[0m \u001b[32m━━━━━━━━━━━━━━━━━━━━\u001b[0m\u001b[37m\u001b[0m \u001b[1m0s\u001b[0m 2ms/step - loss: 0.4688 \n",
            "Epoch 29/50\n",
            "\u001b[1m12/12\u001b[0m \u001b[32m━━━━━━━━━━━━━━━━━━━━\u001b[0m\u001b[37m\u001b[0m \u001b[1m0s\u001b[0m 2ms/step - loss: 0.5465 \n",
            "Epoch 30/50\n",
            "\u001b[1m12/12\u001b[0m \u001b[32m━━━━━━━━━━━━━━━━━━━━\u001b[0m\u001b[37m\u001b[0m \u001b[1m0s\u001b[0m 2ms/step - loss: 0.7231 \n",
            "Epoch 31/50\n",
            "\u001b[1m12/12\u001b[0m \u001b[32m━━━━━━━━━━━━━━━━━━━━\u001b[0m\u001b[37m\u001b[0m \u001b[1m0s\u001b[0m 2ms/step - loss: 0.5506 \n",
            "Epoch 32/50\n",
            "\u001b[1m12/12\u001b[0m \u001b[32m━━━━━━━━━━━━━━━━━━━━\u001b[0m\u001b[37m\u001b[0m \u001b[1m0s\u001b[0m 2ms/step - loss: 0.4400 \n",
            "Epoch 33/50\n",
            "\u001b[1m12/12\u001b[0m \u001b[32m━━━━━━━━━━━━━━━━━━━━\u001b[0m\u001b[37m\u001b[0m \u001b[1m0s\u001b[0m 2ms/step - loss: 0.5285 \n",
            "Epoch 34/50\n",
            "\u001b[1m12/12\u001b[0m \u001b[32m━━━━━━━━━━━━━━━━━━━━\u001b[0m\u001b[37m\u001b[0m \u001b[1m0s\u001b[0m 2ms/step - loss: 0.3935 \n",
            "Epoch 35/50\n",
            "\u001b[1m12/12\u001b[0m \u001b[32m━━━━━━━━━━━━━━━━━━━━\u001b[0m\u001b[37m\u001b[0m \u001b[1m0s\u001b[0m 2ms/step - loss: 0.4620 \n",
            "Epoch 36/50\n",
            "\u001b[1m12/12\u001b[0m \u001b[32m━━━━━━━━━━━━━━━━━━━━\u001b[0m\u001b[37m\u001b[0m \u001b[1m0s\u001b[0m 2ms/step - loss: 0.3474 \n",
            "Epoch 37/50\n",
            "\u001b[1m12/12\u001b[0m \u001b[32m━━━━━━━━━━━━━━━━━━━━\u001b[0m\u001b[37m\u001b[0m \u001b[1m0s\u001b[0m 2ms/step - loss: 0.2809 \n",
            "Epoch 38/50\n",
            "\u001b[1m12/12\u001b[0m \u001b[32m━━━━━━━━━━━━━━━━━━━━\u001b[0m\u001b[37m\u001b[0m \u001b[1m0s\u001b[0m 2ms/step - loss: 0.2570 \n",
            "Epoch 39/50\n",
            "\u001b[1m12/12\u001b[0m \u001b[32m━━━━━━━━━━━━━━━━━━━━\u001b[0m\u001b[37m\u001b[0m \u001b[1m0s\u001b[0m 2ms/step - loss: 0.2647 \n",
            "Epoch 40/50\n",
            "\u001b[1m12/12\u001b[0m \u001b[32m━━━━━━━━━━━━━━━━━━━━\u001b[0m\u001b[37m\u001b[0m \u001b[1m0s\u001b[0m 2ms/step - loss: 0.4301 \n",
            "Epoch 41/50\n",
            "\u001b[1m12/12\u001b[0m \u001b[32m━━━━━━━━━━━━━━━━━━━━\u001b[0m\u001b[37m\u001b[0m \u001b[1m0s\u001b[0m 2ms/step - loss: 0.2788 \n",
            "Epoch 42/50\n",
            "\u001b[1m12/12\u001b[0m \u001b[32m━━━━━━━━━━━━━━━━━━━━\u001b[0m\u001b[37m\u001b[0m \u001b[1m0s\u001b[0m 2ms/step - loss: 0.2540 \n",
            "Epoch 43/50\n",
            "\u001b[1m12/12\u001b[0m \u001b[32m━━━━━━━━━━━━━━━━━━━━\u001b[0m\u001b[37m\u001b[0m \u001b[1m0s\u001b[0m 2ms/step - loss: 0.1534 \n",
            "Epoch 44/50\n",
            "\u001b[1m12/12\u001b[0m \u001b[32m━━━━━━━━━━━━━━━━━━━━\u001b[0m\u001b[37m\u001b[0m \u001b[1m0s\u001b[0m 2ms/step - loss: 0.1699 \n",
            "Epoch 45/50\n",
            "\u001b[1m12/12\u001b[0m \u001b[32m━━━━━━━━━━━━━━━━━━━━\u001b[0m\u001b[37m\u001b[0m \u001b[1m0s\u001b[0m 2ms/step - loss: 0.2504 \n",
            "Epoch 46/50\n",
            "\u001b[1m12/12\u001b[0m \u001b[32m━━━━━━━━━━━━━━━━━━━━\u001b[0m\u001b[37m\u001b[0m \u001b[1m0s\u001b[0m 2ms/step - loss: 0.2302 \n",
            "Epoch 47/50\n",
            "\u001b[1m12/12\u001b[0m \u001b[32m━━━━━━━━━━━━━━━━━━━━\u001b[0m\u001b[37m\u001b[0m \u001b[1m0s\u001b[0m 2ms/step - loss: 0.2665 \n",
            "Epoch 48/50\n",
            "\u001b[1m12/12\u001b[0m \u001b[32m━━━━━━━━━━━━━━━━━━━━\u001b[0m\u001b[37m\u001b[0m \u001b[1m0s\u001b[0m 2ms/step - loss: 0.1729 \n",
            "Epoch 49/50\n",
            "\u001b[1m12/12\u001b[0m \u001b[32m━━━━━━━━━━━━━━━━━━━━\u001b[0m\u001b[37m\u001b[0m \u001b[1m0s\u001b[0m 2ms/step - loss: 0.2344 \n",
            "Epoch 50/50\n",
            "\u001b[1m12/12\u001b[0m \u001b[32m━━━━━━━━━━━━━━━━━━━━\u001b[0m\u001b[37m\u001b[0m \u001b[1m0s\u001b[0m 2ms/step - loss: 0.1850 \n",
            "\u001b[1m12/12\u001b[0m \u001b[32m━━━━━━━━━━━━━━━━━━━━\u001b[0m\u001b[37m\u001b[0m \u001b[1m0s\u001b[0m 2ms/step - loss: 0.1622  \n"
          ]
        },
        {
          "output_type": "execute_result",
          "data": {
            "text/plain": [
              "0.18864493072032928"
            ]
          },
          "metadata": {},
          "execution_count": 10
        }
      ]
    },
    {
      "cell_type": "code",
      "source": [
        "model1.predict(X_test, y_test)"
      ],
      "metadata": {
        "colab": {
          "base_uri": "https://localhost:8080/"
        },
        "id": "KoqVUH_0oqjN",
        "outputId": "02293c4a-2ba8-4be7-8d69-6b0c8cf2e65e"
      },
      "execution_count": 11,
      "outputs": [
        {
          "output_type": "stream",
          "name": "stdout",
          "text": [
            "\u001b[1m6/6\u001b[0m \u001b[32m━━━━━━━━━━━━━━━━━━━━\u001b[0m\u001b[37m\u001b[0m \u001b[1m0s\u001b[0m 2ms/step - loss: 0.0852 \n"
          ]
        },
        {
          "output_type": "execute_result",
          "data": {
            "text/plain": [
              "0.07767941057682037"
            ]
          },
          "metadata": {},
          "execution_count": 11
        }
      ]
    },
    {
      "cell_type": "code",
      "source": [
        "model.fit(X_train, y_train, epochs=100)"
      ],
      "metadata": {
        "colab": {
          "base_uri": "https://localhost:8080/"
        },
        "id": "5UwiCHrcHlI8",
        "outputId": "63799c08-01a7-4a75-c61c-2249274de700"
      },
      "execution_count": null,
      "outputs": [
        {
          "output_type": "stream",
          "name": "stdout",
          "text": [
            "Epoch 1/100\n",
            "\u001b[1m12/12\u001b[0m \u001b[32m━━━━━━━━━━━━━━━━━━━━\u001b[0m\u001b[37m\u001b[0m \u001b[1m1s\u001b[0m 2ms/step - accuracy: 0.5979 - loss: 233.6984  \n",
            "Epoch 2/100\n",
            "\u001b[1m12/12\u001b[0m \u001b[32m━━━━━━━━━━━━━━━━━━━━\u001b[0m\u001b[37m\u001b[0m \u001b[1m0s\u001b[0m 3ms/step - accuracy: 0.5888 - loss: 102.9982 \n",
            "Epoch 3/100\n",
            "\u001b[1m12/12\u001b[0m \u001b[32m━━━━━━━━━━━━━━━━━━━━\u001b[0m\u001b[37m\u001b[0m \u001b[1m0s\u001b[0m 3ms/step - accuracy: 0.3018 - loss: 29.8380  \n",
            "Epoch 4/100\n",
            "\u001b[1m12/12\u001b[0m \u001b[32m━━━━━━━━━━━━━━━━━━━━\u001b[0m\u001b[37m\u001b[0m \u001b[1m0s\u001b[0m 2ms/step - accuracy: 0.3391 - loss: 26.1600  \n",
            "Epoch 5/100\n",
            "\u001b[1m12/12\u001b[0m \u001b[32m━━━━━━━━━━━━━━━━━━━━\u001b[0m\u001b[37m\u001b[0m \u001b[1m0s\u001b[0m 3ms/step - accuracy: 0.3591 - loss: 21.0172 \n",
            "Epoch 6/100\n",
            "\u001b[1m12/12\u001b[0m \u001b[32m━━━━━━━━━━━━━━━━━━━━\u001b[0m\u001b[37m\u001b[0m \u001b[1m0s\u001b[0m 2ms/step - accuracy: 0.2858 - loss: 16.2895  \n",
            "Epoch 7/100\n",
            "\u001b[1m12/12\u001b[0m \u001b[32m━━━━━━━━━━━━━━━━━━━━\u001b[0m\u001b[37m\u001b[0m \u001b[1m0s\u001b[0m 3ms/step - accuracy: 0.2825 - loss: 11.2856  \n",
            "Epoch 8/100\n",
            "\u001b[1m12/12\u001b[0m \u001b[32m━━━━━━━━━━━━━━━━━━━━\u001b[0m\u001b[37m\u001b[0m \u001b[1m0s\u001b[0m 3ms/step - accuracy: 0.3429 - loss: 6.9593  \n",
            "Epoch 9/100\n",
            "\u001b[1m12/12\u001b[0m \u001b[32m━━━━━━━━━━━━━━━━━━━━\u001b[0m\u001b[37m\u001b[0m \u001b[1m0s\u001b[0m 2ms/step - accuracy: 0.4392 - loss: 3.9857  \n",
            "Epoch 10/100\n",
            "\u001b[1m12/12\u001b[0m \u001b[32m━━━━━━━━━━━━━━━━━━━━\u001b[0m\u001b[37m\u001b[0m \u001b[1m0s\u001b[0m 3ms/step - accuracy: 0.5527 - loss: 2.5533  \n",
            "Epoch 11/100\n",
            "\u001b[1m12/12\u001b[0m \u001b[32m━━━━━━━━━━━━━━━━━━━━\u001b[0m\u001b[37m\u001b[0m \u001b[1m0s\u001b[0m 4ms/step - accuracy: 0.6381 - loss: 1.5043  \n",
            "Epoch 12/100\n",
            "\u001b[1m12/12\u001b[0m \u001b[32m━━━━━━━━━━━━━━━━━━━━\u001b[0m\u001b[37m\u001b[0m \u001b[1m0s\u001b[0m 2ms/step - accuracy: 0.7033 - loss: 1.4040 \n",
            "Epoch 13/100\n",
            "\u001b[1m12/12\u001b[0m \u001b[32m━━━━━━━━━━━━━━━━━━━━\u001b[0m\u001b[37m\u001b[0m \u001b[1m0s\u001b[0m 3ms/step - accuracy: 0.7961 - loss: 0.8832  \n",
            "Epoch 14/100\n",
            "\u001b[1m12/12\u001b[0m \u001b[32m━━━━━━━━━━━━━━━━━━━━\u001b[0m\u001b[37m\u001b[0m \u001b[1m0s\u001b[0m 3ms/step - accuracy: 0.7910 - loss: 0.8119  \n",
            "Epoch 15/100\n",
            "\u001b[1m12/12\u001b[0m \u001b[32m━━━━━━━━━━━━━━━━━━━━\u001b[0m\u001b[37m\u001b[0m \u001b[1m0s\u001b[0m 3ms/step - accuracy: 0.7926 - loss: 0.6968  \n",
            "Epoch 16/100\n",
            "\u001b[1m12/12\u001b[0m \u001b[32m━━━━━━━━━━━━━━━━━━━━\u001b[0m\u001b[37m\u001b[0m \u001b[1m0s\u001b[0m 3ms/step - accuracy: 0.8072 - loss: 0.6989  \n",
            "Epoch 17/100\n",
            "\u001b[1m12/12\u001b[0m \u001b[32m━━━━━━━━━━━━━━━━━━━━\u001b[0m\u001b[37m\u001b[0m \u001b[1m0s\u001b[0m 4ms/step - accuracy: 0.8555 - loss: 0.6416  \n",
            "Epoch 18/100\n",
            "\u001b[1m12/12\u001b[0m \u001b[32m━━━━━━━━━━━━━━━━━━━━\u001b[0m\u001b[37m\u001b[0m \u001b[1m0s\u001b[0m 4ms/step - accuracy: 0.8503 - loss: 0.6248 \n",
            "Epoch 19/100\n",
            "\u001b[1m12/12\u001b[0m \u001b[32m━━━━━━━━━━━━━━━━━━━━\u001b[0m\u001b[37m\u001b[0m \u001b[1m0s\u001b[0m 3ms/step - accuracy: 0.8178 - loss: 0.7029 \n",
            "Epoch 20/100\n",
            "\u001b[1m12/12\u001b[0m \u001b[32m━━━━━━━━━━━━━━━━━━━━\u001b[0m\u001b[37m\u001b[0m \u001b[1m0s\u001b[0m 3ms/step - accuracy: 0.8353 - loss: 0.5580 \n",
            "Epoch 21/100\n",
            "\u001b[1m12/12\u001b[0m \u001b[32m━━━━━━━━━━━━━━━━━━━━\u001b[0m\u001b[37m\u001b[0m \u001b[1m0s\u001b[0m 3ms/step - accuracy: 0.8529 - loss: 0.5815 \n",
            "Epoch 22/100\n",
            "\u001b[1m12/12\u001b[0m \u001b[32m━━━━━━━━━━━━━━━━━━━━\u001b[0m\u001b[37m\u001b[0m \u001b[1m0s\u001b[0m 2ms/step - accuracy: 0.8388 - loss: 0.7139  \n",
            "Epoch 23/100\n",
            "\u001b[1m12/12\u001b[0m \u001b[32m━━━━━━━━━━━━━━━━━━━━\u001b[0m\u001b[37m\u001b[0m \u001b[1m0s\u001b[0m 2ms/step - accuracy: 0.8538 - loss: 0.5812 \n",
            "Epoch 24/100\n",
            "\u001b[1m12/12\u001b[0m \u001b[32m━━━━━━━━━━━━━━━━━━━━\u001b[0m\u001b[37m\u001b[0m \u001b[1m0s\u001b[0m 2ms/step - accuracy: 0.8341 - loss: 0.5849 \n",
            "Epoch 25/100\n",
            "\u001b[1m12/12\u001b[0m \u001b[32m━━━━━━━━━━━━━━━━━━━━\u001b[0m\u001b[37m\u001b[0m \u001b[1m0s\u001b[0m 2ms/step - accuracy: 0.8731 - loss: 0.4428 \n",
            "Epoch 26/100\n",
            "\u001b[1m12/12\u001b[0m \u001b[32m━━━━━━━━━━━━━━━━━━━━\u001b[0m\u001b[37m\u001b[0m \u001b[1m0s\u001b[0m 2ms/step - accuracy: 0.8572 - loss: 0.5394 \n",
            "Epoch 27/100\n",
            "\u001b[1m12/12\u001b[0m \u001b[32m━━━━━━━━━━━━━━━━━━━━\u001b[0m\u001b[37m\u001b[0m \u001b[1m0s\u001b[0m 2ms/step - accuracy: 0.8554 - loss: 0.5411 \n",
            "Epoch 28/100\n",
            "\u001b[1m12/12\u001b[0m \u001b[32m━━━━━━━━━━━━━━━━━━━━\u001b[0m\u001b[37m\u001b[0m \u001b[1m0s\u001b[0m 2ms/step - accuracy: 0.8818 - loss: 0.4871 \n",
            "Epoch 29/100\n",
            "\u001b[1m12/12\u001b[0m \u001b[32m━━━━━━━━━━━━━━━━━━━━\u001b[0m\u001b[37m\u001b[0m \u001b[1m0s\u001b[0m 2ms/step - accuracy: 0.8678 - loss: 0.5330 \n",
            "Epoch 30/100\n",
            "\u001b[1m12/12\u001b[0m \u001b[32m━━━━━━━━━━━━━━━━━━━━\u001b[0m\u001b[37m\u001b[0m \u001b[1m0s\u001b[0m 2ms/step - accuracy: 0.8606 - loss: 0.4923 \n",
            "Epoch 31/100\n",
            "\u001b[1m12/12\u001b[0m \u001b[32m━━━━━━━━━━━━━━━━━━━━\u001b[0m\u001b[37m\u001b[0m \u001b[1m0s\u001b[0m 2ms/step - accuracy: 0.8990 - loss: 0.3822 \n",
            "Epoch 32/100\n",
            "\u001b[1m12/12\u001b[0m \u001b[32m━━━━━━━━━━━━━━━━━━━━\u001b[0m\u001b[37m\u001b[0m \u001b[1m0s\u001b[0m 2ms/step - accuracy: 0.8882 - loss: 0.3554  \n",
            "Epoch 33/100\n",
            "\u001b[1m12/12\u001b[0m \u001b[32m━━━━━━━━━━━━━━━━━━━━\u001b[0m\u001b[37m\u001b[0m \u001b[1m0s\u001b[0m 2ms/step - accuracy: 0.8759 - loss: 0.3921 \n",
            "Epoch 34/100\n",
            "\u001b[1m12/12\u001b[0m \u001b[32m━━━━━━━━━━━━━━━━━━━━\u001b[0m\u001b[37m\u001b[0m \u001b[1m0s\u001b[0m 2ms/step - accuracy: 0.8776 - loss: 0.3883 \n",
            "Epoch 35/100\n",
            "\u001b[1m12/12\u001b[0m \u001b[32m━━━━━━━━━━━━━━━━━━━━\u001b[0m\u001b[37m\u001b[0m \u001b[1m0s\u001b[0m 2ms/step - accuracy: 0.8358 - loss: 0.4324 \n",
            "Epoch 36/100\n",
            "\u001b[1m12/12\u001b[0m \u001b[32m━━━━━━━━━━━━━━━━━━━━\u001b[0m\u001b[37m\u001b[0m \u001b[1m0s\u001b[0m 2ms/step - accuracy: 0.9056 - loss: 0.2740 \n",
            "Epoch 37/100\n",
            "\u001b[1m12/12\u001b[0m \u001b[32m━━━━━━━━━━━━━━━━━━━━\u001b[0m\u001b[37m\u001b[0m \u001b[1m0s\u001b[0m 2ms/step - accuracy: 0.8528 - loss: 0.4330 \n",
            "Epoch 38/100\n",
            "\u001b[1m12/12\u001b[0m \u001b[32m━━━━━━━━━━━━━━━━━━━━\u001b[0m\u001b[37m\u001b[0m \u001b[1m0s\u001b[0m 2ms/step - accuracy: 0.8634 - loss: 0.4429 \n",
            "Epoch 39/100\n",
            "\u001b[1m12/12\u001b[0m \u001b[32m━━━━━━━━━━━━━━━━━━━━\u001b[0m\u001b[37m\u001b[0m \u001b[1m0s\u001b[0m 2ms/step - accuracy: 0.8824 - loss: 0.3104 \n",
            "Epoch 40/100\n",
            "\u001b[1m12/12\u001b[0m \u001b[32m━━━━━━━━━━━━━━━━━━━━\u001b[0m\u001b[37m\u001b[0m \u001b[1m0s\u001b[0m 2ms/step - accuracy: 0.9162 - loss: 0.2309 \n",
            "Epoch 41/100\n",
            "\u001b[1m12/12\u001b[0m \u001b[32m━━━━━━━━━━━━━━━━━━━━\u001b[0m\u001b[37m\u001b[0m \u001b[1m0s\u001b[0m 2ms/step - accuracy: 0.9179 - loss: 0.2184 \n",
            "Epoch 42/100\n",
            "\u001b[1m12/12\u001b[0m \u001b[32m━━━━━━━━━━━━━━━━━━━━\u001b[0m\u001b[37m\u001b[0m \u001b[1m0s\u001b[0m 2ms/step - accuracy: 0.9180 - loss: 0.2393 \n",
            "Epoch 43/100\n",
            "\u001b[1m12/12\u001b[0m \u001b[32m━━━━━━━━━━━━━━━━━━━━\u001b[0m\u001b[37m\u001b[0m \u001b[1m0s\u001b[0m 2ms/step - accuracy: 0.8970 - loss: 0.2789 \n",
            "Epoch 44/100\n",
            "\u001b[1m12/12\u001b[0m \u001b[32m━━━━━━━━━━━━━━━━━━━━\u001b[0m\u001b[37m\u001b[0m \u001b[1m0s\u001b[0m 2ms/step - accuracy: 0.9286 - loss: 0.1909 \n",
            "Epoch 45/100\n",
            "\u001b[1m12/12\u001b[0m \u001b[32m━━━━━━━━━━━━━━━━━━━━\u001b[0m\u001b[37m\u001b[0m \u001b[1m0s\u001b[0m 2ms/step - accuracy: 0.9328 - loss: 0.2020 \n",
            "Epoch 46/100\n",
            "\u001b[1m12/12\u001b[0m \u001b[32m━━━━━━━━━━━━━━━━━━━━\u001b[0m\u001b[37m\u001b[0m \u001b[1m0s\u001b[0m 2ms/step - accuracy: 0.9011 - loss: 0.2864 \n",
            "Epoch 47/100\n",
            "\u001b[1m12/12\u001b[0m \u001b[32m━━━━━━━━━━━━━━━━━━━━\u001b[0m\u001b[37m\u001b[0m \u001b[1m0s\u001b[0m 2ms/step - accuracy: 0.9070 - loss: 0.2509 \n",
            "Epoch 48/100\n",
            "\u001b[1m12/12\u001b[0m \u001b[32m━━━━━━━━━━━━━━━━━━━━\u001b[0m\u001b[37m\u001b[0m \u001b[1m0s\u001b[0m 3ms/step - accuracy: 0.9252 - loss: 0.1805 \n",
            "Epoch 49/100\n",
            "\u001b[1m12/12\u001b[0m \u001b[32m━━━━━━━━━━━━━━━━━━━━\u001b[0m\u001b[37m\u001b[0m \u001b[1m0s\u001b[0m 2ms/step - accuracy: 0.9116 - loss: 0.2389  \n",
            "Epoch 50/100\n",
            "\u001b[1m12/12\u001b[0m \u001b[32m━━━━━━━━━━━━━━━━━━━━\u001b[0m\u001b[37m\u001b[0m \u001b[1m0s\u001b[0m 2ms/step - accuracy: 0.9203 - loss: 0.1726 \n",
            "Epoch 51/100\n",
            "\u001b[1m12/12\u001b[0m \u001b[32m━━━━━━━━━━━━━━━━━━━━\u001b[0m\u001b[37m\u001b[0m \u001b[1m0s\u001b[0m 2ms/step - accuracy: 0.9280 - loss: 0.2007 \n",
            "Epoch 52/100\n",
            "\u001b[1m12/12\u001b[0m \u001b[32m━━━━━━━━━━━━━━━━━━━━\u001b[0m\u001b[37m\u001b[0m \u001b[1m0s\u001b[0m 2ms/step - accuracy: 0.8923 - loss: 0.2544 \n",
            "Epoch 53/100\n",
            "\u001b[1m12/12\u001b[0m \u001b[32m━━━━━━━━━━━━━━━━━━━━\u001b[0m\u001b[37m\u001b[0m \u001b[1m0s\u001b[0m 2ms/step - accuracy: 0.8582 - loss: 0.3290 \n",
            "Epoch 54/100\n",
            "\u001b[1m12/12\u001b[0m \u001b[32m━━━━━━━━━━━━━━━━━━━━\u001b[0m\u001b[37m\u001b[0m \u001b[1m0s\u001b[0m 2ms/step - accuracy: 0.8813 - loss: 0.3530 \n",
            "Epoch 55/100\n",
            "\u001b[1m12/12\u001b[0m \u001b[32m━━━━━━━━━━━━━━━━━━━━\u001b[0m\u001b[37m\u001b[0m \u001b[1m0s\u001b[0m 2ms/step - accuracy: 0.8976 - loss: 0.2797 \n",
            "Epoch 56/100\n",
            "\u001b[1m12/12\u001b[0m \u001b[32m━━━━━━━━━━━━━━━━━━━━\u001b[0m\u001b[37m\u001b[0m \u001b[1m0s\u001b[0m 2ms/step - accuracy: 0.8817 - loss: 0.2927 \n",
            "Epoch 57/100\n",
            "\u001b[1m12/12\u001b[0m \u001b[32m━━━━━━━━━━━━━━━━━━━━\u001b[0m\u001b[37m\u001b[0m \u001b[1m0s\u001b[0m 2ms/step - accuracy: 0.9331 - loss: 0.1645 \n",
            "Epoch 58/100\n",
            "\u001b[1m12/12\u001b[0m \u001b[32m━━━━━━━━━━━━━━━━━━━━\u001b[0m\u001b[37m\u001b[0m \u001b[1m0s\u001b[0m 2ms/step - accuracy: 0.9278 - loss: 0.1781 \n",
            "Epoch 59/100\n",
            "\u001b[1m12/12\u001b[0m \u001b[32m━━━━━━━━━━━━━━━━━━━━\u001b[0m\u001b[37m\u001b[0m \u001b[1m0s\u001b[0m 2ms/step - accuracy: 0.9307 - loss: 0.2061 \n",
            "Epoch 60/100\n",
            "\u001b[1m12/12\u001b[0m \u001b[32m━━━━━━━━━━━━━━━━━━━━\u001b[0m\u001b[37m\u001b[0m \u001b[1m0s\u001b[0m 2ms/step - accuracy: 0.9196 - loss: 0.2191 \n",
            "Epoch 61/100\n",
            "\u001b[1m12/12\u001b[0m \u001b[32m━━━━━━━━━━━━━━━━━━━━\u001b[0m\u001b[37m\u001b[0m \u001b[1m0s\u001b[0m 2ms/step - accuracy: 0.9203 - loss: 0.2080 \n",
            "Epoch 62/100\n",
            "\u001b[1m12/12\u001b[0m \u001b[32m━━━━━━━━━━━━━━━━━━━━\u001b[0m\u001b[37m\u001b[0m \u001b[1m0s\u001b[0m 2ms/step - accuracy: 0.9039 - loss: 0.2286 \n",
            "Epoch 63/100\n",
            "\u001b[1m12/12\u001b[0m \u001b[32m━━━━━━━━━━━━━━━━━━━━\u001b[0m\u001b[37m\u001b[0m \u001b[1m0s\u001b[0m 2ms/step - accuracy: 0.9339 - loss: 0.1774 \n",
            "Epoch 64/100\n",
            "\u001b[1m12/12\u001b[0m \u001b[32m━━━━━━━━━━━━━━━━━━━━\u001b[0m\u001b[37m\u001b[0m \u001b[1m0s\u001b[0m 2ms/step - accuracy: 0.9439 - loss: 0.1325 \n",
            "Epoch 65/100\n",
            "\u001b[1m12/12\u001b[0m \u001b[32m━━━━━━━━━━━━━━━━━━━━\u001b[0m\u001b[37m\u001b[0m \u001b[1m0s\u001b[0m 2ms/step - accuracy: 0.9109 - loss: 0.2046 \n",
            "Epoch 66/100\n",
            "\u001b[1m12/12\u001b[0m \u001b[32m━━━━━━━━━━━━━━━━━━━━\u001b[0m\u001b[37m\u001b[0m \u001b[1m0s\u001b[0m 2ms/step - accuracy: 0.9204 - loss: 0.1987 \n",
            "Epoch 67/100\n",
            "\u001b[1m12/12\u001b[0m \u001b[32m━━━━━━━━━━━━━━━━━━━━\u001b[0m\u001b[37m\u001b[0m \u001b[1m0s\u001b[0m 2ms/step - accuracy: 0.9284 - loss: 0.1688 \n",
            "Epoch 68/100\n",
            "\u001b[1m12/12\u001b[0m \u001b[32m━━━━━━━━━━━━━━━━━━━━\u001b[0m\u001b[37m\u001b[0m \u001b[1m0s\u001b[0m 2ms/step - accuracy: 0.9524 - loss: 0.1056 \n",
            "Epoch 69/100\n",
            "\u001b[1m12/12\u001b[0m \u001b[32m━━━━━━━━━━━━━━━━━━━━\u001b[0m\u001b[37m\u001b[0m \u001b[1m0s\u001b[0m 2ms/step - accuracy: 0.8522 - loss: 0.3656 \n",
            "Epoch 70/100\n",
            "\u001b[1m12/12\u001b[0m \u001b[32m━━━━━━━━━━━━━━━━━━━━\u001b[0m\u001b[37m\u001b[0m \u001b[1m0s\u001b[0m 2ms/step - accuracy: 0.9233 - loss: 0.1660 \n",
            "Epoch 71/100\n",
            "\u001b[1m12/12\u001b[0m \u001b[32m━━━━━━━━━━━━━━━━━━━━\u001b[0m\u001b[37m\u001b[0m \u001b[1m0s\u001b[0m 2ms/step - accuracy: 0.9521 - loss: 0.1366 \n",
            "Epoch 72/100\n",
            "\u001b[1m12/12\u001b[0m \u001b[32m━━━━━━━━━━━━━━━━━━━━\u001b[0m\u001b[37m\u001b[0m \u001b[1m0s\u001b[0m 2ms/step - accuracy: 0.9085 - loss: 0.1553 \n",
            "Epoch 73/100\n",
            "\u001b[1m12/12\u001b[0m \u001b[32m━━━━━━━━━━━━━━━━━━━━\u001b[0m\u001b[37m\u001b[0m \u001b[1m0s\u001b[0m 2ms/step - accuracy: 0.9245 - loss: 0.1834 \n",
            "Epoch 74/100\n",
            "\u001b[1m12/12\u001b[0m \u001b[32m━━━━━━━━━━━━━━━━━━━━\u001b[0m\u001b[37m\u001b[0m \u001b[1m0s\u001b[0m 2ms/step - accuracy: 0.8501 - loss: 0.3730 \n",
            "Epoch 75/100\n",
            "\u001b[1m12/12\u001b[0m \u001b[32m━━━━━━━━━━━━━━━━━━━━\u001b[0m\u001b[37m\u001b[0m \u001b[1m0s\u001b[0m 2ms/step - accuracy: 0.8751 - loss: 0.4681 \n",
            "Epoch 76/100\n",
            "\u001b[1m12/12\u001b[0m \u001b[32m━━━━━━━━━━━━━━━━━━━━\u001b[0m\u001b[37m\u001b[0m \u001b[1m0s\u001b[0m 2ms/step - accuracy: 0.8947 - loss: 0.2850 \n",
            "Epoch 77/100\n",
            "\u001b[1m12/12\u001b[0m \u001b[32m━━━━━━━━━━━━━━━━━━━━\u001b[0m\u001b[37m\u001b[0m \u001b[1m0s\u001b[0m 2ms/step - accuracy: 0.9491 - loss: 0.1392 \n",
            "Epoch 78/100\n",
            "\u001b[1m12/12\u001b[0m \u001b[32m━━━━━━━━━━━━━━━━━━━━\u001b[0m\u001b[37m\u001b[0m \u001b[1m0s\u001b[0m 2ms/step - accuracy: 0.8654 - loss: 0.3102 \n",
            "Epoch 79/100\n",
            "\u001b[1m12/12\u001b[0m \u001b[32m━━━━━━━━━━━━━━━━━━━━\u001b[0m\u001b[37m\u001b[0m \u001b[1m0s\u001b[0m 2ms/step - accuracy: 0.9328 - loss: 0.1533  \n",
            "Epoch 80/100\n",
            "\u001b[1m12/12\u001b[0m \u001b[32m━━━━━━━━━━━━━━━━━━━━\u001b[0m\u001b[37m\u001b[0m \u001b[1m0s\u001b[0m 3ms/step - accuracy: 0.9215 - loss: 0.1449 \n",
            "Epoch 81/100\n",
            "\u001b[1m12/12\u001b[0m \u001b[32m━━━━━━━━━━━━━━━━━━━━\u001b[0m\u001b[37m\u001b[0m \u001b[1m0s\u001b[0m 2ms/step - accuracy: 0.9331 - loss: 0.1883 \n",
            "Epoch 82/100\n",
            "\u001b[1m12/12\u001b[0m \u001b[32m━━━━━━━━━━━━━━━━━━━━\u001b[0m\u001b[37m\u001b[0m \u001b[1m0s\u001b[0m 2ms/step - accuracy: 0.9382 - loss: 0.1337 \n",
            "Epoch 83/100\n",
            "\u001b[1m12/12\u001b[0m \u001b[32m━━━━━━━━━━━━━━━━━━━━\u001b[0m\u001b[37m\u001b[0m \u001b[1m0s\u001b[0m 2ms/step - accuracy: 0.9329 - loss: 0.1676 \n",
            "Epoch 84/100\n",
            "\u001b[1m12/12\u001b[0m \u001b[32m━━━━━━━━━━━━━━━━━━━━\u001b[0m\u001b[37m\u001b[0m \u001b[1m0s\u001b[0m 2ms/step - accuracy: 0.9478 - loss: 0.1331 \n",
            "Epoch 85/100\n",
            "\u001b[1m12/12\u001b[0m \u001b[32m━━━━━━━━━━━━━━━━━━━━\u001b[0m\u001b[37m\u001b[0m \u001b[1m0s\u001b[0m 2ms/step - accuracy: 0.9421 - loss: 0.1281 \n",
            "Epoch 86/100\n",
            "\u001b[1m12/12\u001b[0m \u001b[32m━━━━━━━━━━━━━━━━━━━━\u001b[0m\u001b[37m\u001b[0m \u001b[1m0s\u001b[0m 2ms/step - accuracy: 0.8879 - loss: 0.2576 \n",
            "Epoch 87/100\n",
            "\u001b[1m12/12\u001b[0m \u001b[32m━━━━━━━━━━━━━━━━━━━━\u001b[0m\u001b[37m\u001b[0m \u001b[1m0s\u001b[0m 2ms/step - accuracy: 0.9476 - loss: 0.1198 \n",
            "Epoch 88/100\n",
            "\u001b[1m12/12\u001b[0m \u001b[32m━━━━━━━━━━━━━━━━━━━━\u001b[0m\u001b[37m\u001b[0m \u001b[1m0s\u001b[0m 2ms/step - accuracy: 0.9206 - loss: 0.1677 \n",
            "Epoch 89/100\n",
            "\u001b[1m12/12\u001b[0m \u001b[32m━━━━━━━━━━━━━━━━━━━━\u001b[0m\u001b[37m\u001b[0m \u001b[1m0s\u001b[0m 2ms/step - accuracy: 0.9466 - loss: 0.1356 \n",
            "Epoch 90/100\n",
            "\u001b[1m12/12\u001b[0m \u001b[32m━━━━━━━━━━━━━━━━━━━━\u001b[0m\u001b[37m\u001b[0m \u001b[1m0s\u001b[0m 2ms/step - accuracy: 0.9333 - loss: 0.1555 \n",
            "Epoch 91/100\n",
            "\u001b[1m12/12\u001b[0m \u001b[32m━━━━━━━━━━━━━━━━━━━━\u001b[0m\u001b[37m\u001b[0m \u001b[1m0s\u001b[0m 2ms/step - accuracy: 0.9307 - loss: 0.1592 \n",
            "Epoch 92/100\n",
            "\u001b[1m12/12\u001b[0m \u001b[32m━━━━━━━━━━━━━━━━━━━━\u001b[0m\u001b[37m\u001b[0m \u001b[1m0s\u001b[0m 2ms/step - accuracy: 0.9501 - loss: 0.1339 \n",
            "Epoch 93/100\n",
            "\u001b[1m12/12\u001b[0m \u001b[32m━━━━━━━━━━━━━━━━━━━━\u001b[0m\u001b[37m\u001b[0m \u001b[1m0s\u001b[0m 2ms/step - accuracy: 0.9468 - loss: 0.1226 \n",
            "Epoch 94/100\n",
            "\u001b[1m12/12\u001b[0m \u001b[32m━━━━━━━━━━━━━━━━━━━━\u001b[0m\u001b[37m\u001b[0m \u001b[1m0s\u001b[0m 2ms/step - accuracy: 0.9306 - loss: 0.1369 \n",
            "Epoch 95/100\n",
            "\u001b[1m12/12\u001b[0m \u001b[32m━━━━━━━━━━━━━━━━━━━━\u001b[0m\u001b[37m\u001b[0m \u001b[1m0s\u001b[0m 2ms/step - accuracy: 0.9564 - loss: 0.1052 \n",
            "Epoch 96/100\n",
            "\u001b[1m12/12\u001b[0m \u001b[32m━━━━━━━━━━━━━━━━━━━━\u001b[0m\u001b[37m\u001b[0m \u001b[1m0s\u001b[0m 2ms/step - accuracy: 0.9786 - loss: 0.0816 \n",
            "Epoch 97/100\n",
            "\u001b[1m12/12\u001b[0m \u001b[32m━━━━━━━━━━━━━━━━━━━━\u001b[0m\u001b[37m\u001b[0m \u001b[1m0s\u001b[0m 3ms/step - accuracy: 0.9161 - loss: 0.1697 \n",
            "Epoch 98/100\n",
            "\u001b[1m12/12\u001b[0m \u001b[32m━━━━━━━━━━━━━━━━━━━━\u001b[0m\u001b[37m\u001b[0m \u001b[1m0s\u001b[0m 2ms/step - accuracy: 0.9263 - loss: 0.1390  \n",
            "Epoch 99/100\n",
            "\u001b[1m12/12\u001b[0m \u001b[32m━━━━━━━━━━━━━━━━━━━━\u001b[0m\u001b[37m\u001b[0m \u001b[1m0s\u001b[0m 2ms/step - accuracy: 0.9122 - loss: 0.1849 \n",
            "Epoch 100/100\n",
            "\u001b[1m12/12\u001b[0m \u001b[32m━━━━━━━━━━━━━━━━━━━━\u001b[0m\u001b[37m\u001b[0m \u001b[1m0s\u001b[0m 2ms/step - accuracy: 0.9446 - loss: 0.1530 \n"
          ]
        },
        {
          "output_type": "execute_result",
          "data": {
            "text/plain": [
              "<keras.src.callbacks.history.History at 0x7e61a4476260>"
            ]
          },
          "metadata": {},
          "execution_count": 26
        }
      ]
    }
  ]
}