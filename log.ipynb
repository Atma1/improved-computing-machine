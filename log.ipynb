{
  "cells": [
    {
      "cell_type": "code",
      "execution_count": 40,
      "metadata": {
        "colab": {
          "base_uri": "https://localhost:8080/"
        },
        "id": "_lK53OaJdvcz",
        "outputId": "aeb58e85-f283-43fd-b814-500c29b371f6"
      },
      "outputs": [
        {
          "name": "stdout",
          "output_type": "stream",
          "text": [
            "foo\n"
          ]
        }
      ],
      "source": [
        "from mealpy import Problem, FloatVar, BBO, IntegerVar, GA, StringVar\n",
        "import tensorflow as tf\n",
        "from tensorflow.keras.models import Sequential\n",
        "from tensorflow.keras.layers import Dense, Input\n",
        "from sklearn.datasets import load_breast_cancer\n",
        "from sklearn.model_selection import train_test_split\n",
        "from mealpy import GA, PSO, Problem, FloatVar, IntegerVar\n",
        "import numpy as np\n",
        "\n",
        "SEED = 42\n",
        "\n",
        "\n",
        "# Our custom problem class\n",
        "class Squared(Problem):\n",
        "    def __init__(self, bounds=None, minmax=\"min\", name=\"Squared\", data=None, **kwargs):\n",
        "        self.name = name\n",
        "        self.data = data\n",
        "        super().__init__(bounds, minmax, **kwargs)\n",
        "\n",
        "    def obj_func(self, solution):\n",
        "        x = self.decode_solution(solution)[\"weight\"]\n",
        "        b = self.decode_solution(solution)[\"base\"]\n",
        "        return [x**2, b**2]\n",
        "\n",
        "## Now, we define an algorithm, and pass an instance of our *Squared* class as the problem argument.\n",
        "bounds = [IntegerVar(lb=10, ub=100, name=\"weight\"), IntegerVar(lb=10, ub=20, name=\"base\")]\n",
        "problem = Squared(bounds=bounds, minmax=\"min\", name=\"Squared\", data=\"Amazing\", obj_weights=(0.5, 0.5))\n",
        "# model = BBO.OriginalBBO(epoch=100, pop_size=20, seed=SEED)\n",
        "# model_2 = GA.BaseGA(epoch=100, pop_size=100)\n",
        "# g_best = model.solve(problem)"
      ]
    },
    {
      "cell_type": "code",
      "execution_count": 8,
      "metadata": {
        "id": "E9trfteaIAP7"
      },
      "outputs": [],
      "source": [
        "class LogisticRegression():\n",
        "    def __init__(self, input: int, optimizer: str, learning_rate: float):\n",
        "        self.input = input\n",
        "        self.optimizer_name = optimizer\n",
        "        self.learning_rate = learning_rate\n",
        "        self.sequential = Sequential([\n",
        "            Input(shape=(input,)),\n",
        "            Dense(1, activation='linear'),\n",
        "        ])\n",
        "\n",
        "    def fit(self, X, y, epochs=50):\n",
        "        self.sequential.compile(\n",
        "              loss=tf.keras.losses.BinaryCrossentropy(from_logits=True),\n",
        "              optimizer=getattr(tf.keras.optimizers, self.optimizer_name)(learning_rate=self.learning_rate))\n",
        "        self.sequential.fit(X, y, epochs=epochs)\n",
        "        loss = self.sequential.evaluate(X, y)\n",
        "        return loss\n",
        "\n",
        "    def predict(self, X, y):\n",
        "        test_loss = self.sequential.evaluate(X, y)\n",
        "        return test_loss\n",
        "\n"
      ]
    },
    {
      "cell_type": "code",
      "execution_count": 37,
      "metadata": {
        "id": "bd8uni-mpE-Z"
      },
      "outputs": [],
      "source": [
        "class HyperParamProblem(Problem):\n",
        "    def __init__(self, bounds, minmax=\"min\", data=None, **kwargs):\n",
        "        self.data = data\n",
        "\n",
        "        super().__init__(bounds, minmax, **kwargs)\n",
        "\n",
        "    # def fit_model(self, optimizer_name, learning_rate):\n",
        "    #     # Create Logistic Regression model with current hyperparameters\n",
        "    #     input_dim = self.data[\"X_train\"].shape[1]\n",
        "    #     model = LogisticRegression(input=input_dim, optimizer=optimizer_name, learning_rate=learning_rate)\n",
        "\n",
        "    #     # Train the model and return loss as the evaluation metric\n",
        "    #     loss_train = model.fit(self.data[\"X_train\"], self.data[\"y_train\"], epochs=self.data[\"epoch\"])\n",
        "    #     loss_test = model.predict(self.data[\"X_test\"], self.data[\"y_test\"])\n",
        "    #     return [loss_train, loss_test]\n",
        "\n",
        "    def obj_func(self, solution):\n",
        "        solution = self.decode_solution(solution)\n",
        "        optimizer_name, learning_rate = solution[\"optimizer\"], solution[\"learning_rate\"]\n",
        "        # train_test_loss = self.fit_model(optimizer_name, learning_rate)\n",
        "        print(\"foo\")\n",
        "        return True"
      ]
    },
    {
      "cell_type": "code",
      "execution_count": 9,
      "metadata": {
        "id": "W-n5DryQHAiV"
      },
      "outputs": [],
      "source": [
        "data = load_breast_cancer()\n",
        "X_train, X_test, y_train, y_test = train_test_split(data.data, data.target, test_size=0.33, random_state=42)"
      ]
    },
    {
      "cell_type": "code",
      "execution_count": 38,
      "metadata": {
        "id": "keD1s7ggr6RU"
      },
      "outputs": [],
      "source": [
        "data = {\n",
        "    \"X_train\": X_train,\n",
        "    \"y_train\": y_train,\n",
        "    \"X_test\": X_test,\n",
        "    \"y_test\": y_test,\n",
        "    \"epoch\": 50\n",
        "}\n",
        "optimizers = [ \"SGD\", \"Adam\", \"RMSprop\", \"Adagrad\", \"Adadelta\", \"Adamax\"]\n",
        "bounds = [\n",
        "    StringVar(valid_sets=optimizers, name=\"optimizer\"),\n",
        "    FloatVar(lb=0.001, ub=0.1, name=\"learning_rate\"),\n",
        "]"
      ]
    },
    {
      "cell_type": "code",
      "execution_count": 39,
      "metadata": {
        "colab": {
          "base_uri": "https://localhost:8080/"
        },
        "id": "CU7fC6Fytcol",
        "outputId": "fb489eab-9020-4b12-87aa-95fc6dd267b4"
      },
      "outputs": [
        {
          "name": "stdout",
          "output_type": "stream",
          "text": [
            "foo\n"
          ]
        }
      ],
      "source": [
        "hyperparam_problem = HyperParamProblem(bounds=bounds, minmax=\"min\", data=data, name=\"Hyperparam_problem\", obj_weights=(0.5, 0.5))"
      ]
    }
  ],
  "metadata": {
    "colab": {
      "provenance": []
    },
    "kernelspec": {
      "display_name": "Python 3",
      "name": "python3"
    },
    "language_info": {
      "name": "python"
    }
  },
  "nbformat": 4,
  "nbformat_minor": 0
}
